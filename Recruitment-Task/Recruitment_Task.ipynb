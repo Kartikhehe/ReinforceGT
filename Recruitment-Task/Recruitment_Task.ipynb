{
  "cells": [
    {
      "cell_type": "markdown",
      "id": "20899b49",
      "metadata": {
        "id": "20899b49"
      },
      "source": [
        "#Ques. 1: Scratchcard Points\n",
        "\n",
        "**(Note : Make a copy of this colab notebook and edit in that copy otherwise your changes won't be saved since it's view only)**\n",
        "\n",
        "You are given a file named [`input.txt`](https://drive.google.com/file/d/1o4AQ8X_F5HwoqYiowZqYDXFJrMyJz1c2/view?usp=sharing), which contains several lines representing scratchcards. Each line consists of two lists off numbers:\n",
        "- The **first list** (after \"Card X:\") contains the \"winning numbers\".\n",
        "- The **second list** contains the numbers on your scratchcard.\n",
        "\n",
        "The format of each line is as follows:\n",
        "```\n",
        "Card X: <winning numbers> | <your numbers>\n",
        "```\n",
        "\n",
        "Each number is a non-negative integer, and both lists are space-separated.\n",
        "\n",
        "### Task:\n",
        "1. For each scratchcard:\n",
        "   - Count how many of your numbers match the winning numbers.\n",
        "   - If there is **at least one match**, award points as follows:\n",
        "     - 1 match = 1 point\n",
        "     - 2 matches = 2 points\n",
        "     - 3 matches = 4 points\n",
        "     - 4 matches = 8 points\n",
        "     - and so on...\n",
        "       - **Points** = `2^(matches - 1)`\n",
        "\n",
        "2. Multiply the points by the **card number** (the number after \"Card\") to get the **total points for that card**.\n",
        "3. Sum the total points for all cards and print the **FINAL ANSWER**."
      ]
    },
    {
      "cell_type": "code",
      "execution_count": null,
      "id": "b0c000e5",
      "metadata": {
        "vscode": {
          "languageId": "plaintext"
        },
        "id": "b0c000e5"
      },
      "outputs": [],
      "source": [
        "# Enter your code here, Make sure to show your output"
      ]
    },
    {
      "cell_type": "markdown",
      "id": "b20afc97",
      "metadata": {
        "id": "b20afc97"
      },
      "source": [
        "# Ques. 2: Scratchcard Chain Reactions\n",
        "\n",
        "You are given a file [`input.txt`](https://drive.google.com/file/d/1qGWvlmLF2ADMKIoEQUf5q4WDiazAWy_2/view?usp=drive_link) (Different from previous input.txt file) containing lines representing **scratchcards**. Each scratchcard has:\n",
        "- A list of **winning numbers**\n",
        "- A list of **your numbers**\n",
        "\n",
        "The format of each line is:\n",
        "```\n",
        "Card X: <winning numbers> | <your numbers>\n",
        "```\n",
        "\n",
        "Each number is an integer, and both sets are space-separated.\n",
        "\n",
        "### Task Description:\n",
        "Each card can **\"win\" additional cards** based on how many of its numbers match the winning numbers.\n",
        "\n",
        "1. You start with **1 copy** of each card (Card 1 to Card 220).\n",
        "2. For **each card**, do the following:\n",
        "   - Count how many numbers match between the card's winning numbers and your numbers.\n",
        "   - If a card has `N` matches, then for **each match and each copy of that card you currently have**, you **win 1 additional copy of the next N cards**.\n",
        "     - For example, if Card 7 has 3 matches and you have 2 copies of Card 7, then:\n",
        "       - You gain 3 matches × 2 copies = 6 additional copies of Card 8\n",
        "       - You gain 3 matches × 2 copies = 6 additional copies of Card 9\n",
        "       - You gain 3 matches × 2 copies = 6 additional copies of Card 10\n",
        "\n",
        "3. Repeat this process for each card from 1 to 220.\n",
        "4. Matches on cards like say 218 wont win you card above 220 since they dont exist and can be ignored.\n",
        "\n",
        "in the given input.txt, your counts should proceed as follows:\n",
        "[`Example.jpg`](https://drive.google.com/file/d/1eS-E0xTTaZwDr5y997wVcMVcV5fZWhLz/view?usp=sharing)\n",
        "\n",
        "### Output:\n",
        "After processing all cards, print the **total number of scratchcards** you end up with (including all the original and the newly won ones)."
      ]
    },
    {
      "cell_type": "code",
      "execution_count": null,
      "id": "dfdc44c9",
      "metadata": {
        "vscode": {
          "languageId": "plaintext"
        },
        "id": "dfdc44c9"
      },
      "outputs": [],
      "source": [
        "# Enter your code here, Make sure to show your output"
      ]
    }
  ],
  "metadata": {
    "language_info": {
      "name": "python"
    },
    "colab": {
      "provenance": [],
      "collapsed_sections": [
        "20899b49"
      ]
    },
    "kernelspec": {
      "name": "python3",
      "display_name": "Python 3"
    }
  },
  "nbformat": 4,
  "nbformat_minor": 5
}